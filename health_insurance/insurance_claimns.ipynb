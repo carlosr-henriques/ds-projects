{
 "cells": [
  {
   "attachments": {},
   "cell_type": "markdown",
   "id": "14843993-ead3-490e-924c-93a7a812e965",
   "metadata": {},
   "source": [
    "Esse projecto visa explorar um conjunto de dados dedicado ao custo do tratamento de diferentes pacientes, extrair insights e obter evidências estatísticas para responder à dúvidas de negócio. Não temos dados sobre o diagnóstico dos pacientes, mas temos outras informações que podem nos ajudar a tirar uma conclusão sobre a saúde dos pacientes e praticar a análise de regressão.   \n",
    "\n",
    "O custo do tratamento depende de muitos fatores: diagnóstico, tipo de clínica, cidade de residência, idade e assim por diante. Portanto, irei explorar alguns dos fatores que levam a altos gastos e o que pode ser feito para reduzir, de forma que as soluções possam ser benéficos tanto para a empresa de seguros médicos quanto para o beneficiário.  \n",
    "\n",
    "Também irei explorar a predição do custo de novos pacientes, baseado nas características presentes no conjunto de dados. Uma observação válida sobre o dataset: não há indícios de que os dados aqui presentes são reais. Entretanto, há uma discussão no Kaggle supondo fictícios e baseados em dados da US Census Bureau. No repositório do GitHub do autor do livro, não é referenciado o link fonte do dataset. \n",
    "\n",
    "Esse projeto foi criado aplicando a metodologia CRISP-DM.\n",
    "<center><img src=\"https://upload.wikimedia.org/wikipedia/commons/thumb/b/b9/CRISP-DM_Process_Diagram.png/1200px-CRISP-DM_Process_Diagram.png\" width=\"500\" height=\"400\">"
   ]
  },
  {
   "cell_type": "code",
   "execution_count": 10,
   "id": "37ba1da0-b0ff-4f6a-a417-7326d080c0e9",
   "metadata": {},
   "outputs": [],
   "source": [
    "from sklearn.model_selection import train_test_split\n",
    "from sklearn.compose import ColumnTransformer\n",
    "from sklearn.preprocessing import OneHotEncoder, StandardScaler\n",
    "from sklearn.linear_model import LinearRegression\n",
    "\n",
    "from scipy import stats\n",
    "from statsmodels.stats.proportion import proportions_ztest\n",
    "from statsmodels.formula.api import ols\n",
    "from statsmodels.stats.anova import anova_lm\n",
    "\n",
    "from tabulate import tabulate\n",
    "import pandas as pd\n",
    "import numpy as np\n",
    "import matplotlib.pyplot as plt\n",
    "%matplotlib inline\n",
    "import seaborn as sns\n",
    "import warnings\n",
    "import pprint\n",
    "\n",
    "warnings.filterwarnings('ignore')\n",
    "sns.set(style=\"darkgrid\")"
   ]
  },
  {
   "cell_type": "markdown",
   "id": "cc317234-e711-436a-aa24-6ef1895490f0",
   "metadata": {},
   "source": [
    "# Data Understanding"
   ]
  },
  {
   "cell_type": "code",
   "execution_count": 11,
   "id": "d326251e-b024-41f2-81b4-e4155c53c93a",
   "metadata": {},
   "outputs": [],
   "source": [
    "df = pd.read_csv(\"insurance.csv\")"
   ]
  },
  {
   "cell_type": "code",
   "execution_count": 12,
   "id": "0c0cd11b-543a-4e66-8f30-f0ad3c32b870",
   "metadata": {},
   "outputs": [
    {
     "name": "stdout",
     "output_type": "stream",
     "text": [
      "<class 'pandas.core.frame.DataFrame'>\n",
      "RangeIndex: 1338 entries, 0 to 1337\n",
      "Data columns (total 7 columns):\n",
      " #   Column    Non-Null Count  Dtype  \n",
      "---  ------    --------------  -----  \n",
      " 0   age       1338 non-null   int64  \n",
      " 1   sex       1338 non-null   object \n",
      " 2   bmi       1338 non-null   float64\n",
      " 3   children  1338 non-null   int64  \n",
      " 4   smoker    1338 non-null   object \n",
      " 5   region    1338 non-null   object \n",
      " 6   charges   1338 non-null   float64\n",
      "dtypes: float64(2), int64(2), object(3)\n",
      "memory usage: 73.3+ KB\n"
     ]
    }
   ],
   "source": [
    "df.info()"
   ]
  },
  {
   "cell_type": "code",
   "execution_count": 13,
   "id": "45f30608-c2b8-46cf-b8ab-66ea5977b4c2",
   "metadata": {},
   "outputs": [
    {
     "name": "stdout",
     "output_type": "stream",
     "text": [
      "╒════════════════╤═════════╕\n",
      "│ Property       │   Value │\n",
      "╞════════════════╪═════════╡\n",
      "│ Rows           │    1338 │\n",
      "├────────────────┼─────────┤\n",
      "│ Columns        │       7 │\n",
      "├────────────────┼─────────┤\n",
      "│ Missing Values │       0 │\n",
      "╘════════════════╧═════════╛\n",
      "\n",
      "Features:\n",
      "╒═════╤═════╤═════╤══════════╤════════╤════════╤═════════╕\n",
      "│ age │ sex │ bmi │ children │ smoker │ region │ charges │\n",
      "╘═════╧═════╧═════╧══════════╧════════╧════════╧═════════╛\n",
      "\n",
      "Unique Values per Column:\n",
      "╒══════════╤═════════════════╕\n",
      "│ Column   │   Unique Values │\n",
      "╞══════════╪═════════════════╡\n",
      "│ age      │              47 │\n",
      "├──────────┼─────────────────┤\n",
      "│ sex      │               2 │\n",
      "├──────────┼─────────────────┤\n",
      "│ bmi      │             548 │\n",
      "├──────────┼─────────────────┤\n",
      "│ children │               6 │\n",
      "├──────────┼─────────────────┤\n",
      "│ smoker   │               2 │\n",
      "├──────────┼─────────────────┤\n",
      "│ region   │               4 │\n",
      "├──────────┼─────────────────┤\n",
      "│ charges  │            1337 │\n",
      "╘══════════╧═════════════════╛\n"
     ]
    }
   ],
   "source": [
    "summary = [\n",
    "    [\"Rows\", df.shape[0]],\n",
    "    [\"Columns\", df.shape[1]],\n",
    "    [\"Missing Values\", df.isnull().sum().sum()],\n",
    "]\n",
    "\n",
    "print(tabulate(summary, headers=[\"Property\", \"Value\"], tablefmt=\"fancy_grid\"))\n",
    "\n",
    "print(\"\\nFeatures:\")\n",
    "print(tabulate([df.columns], tablefmt=\"fancy_grid\"))\n",
    "\n",
    "print(\"\\nUnique Values per Column:\")\n",
    "print(tabulate(df.nunique().reset_index().values, headers=[\"Column\", \"Unique Values\"], tablefmt=\"fancy_grid\"))\n"
   ]
  },
  {
   "cell_type": "markdown",
   "id": "308c8c66-ae1c-4cb3-82e8-668a7e4b8b90",
   "metadata": {},
   "source": [
    "## Panorama do dataset\n",
    "\n",
    "**Variáveis categóricas**: sex, smoker, region, children  \n",
    "**Variáveis quantitativas**: age, bmi, charges  \n",
    "\n",
    "**Não há valores nulos.**  \n",
    "\n",
    "Por mais que a princípio as variáveis **age**, **smoker**, **region** e **children**, estejam sendo representadas por variáveis do tipo **object** e **int**, respectivamente, elas serão convertidas em categóricas para otimizar armazenamento de dados. Isso porque o tipo de dados `Categorical` aloca memória com base na quantidade de categorias mais o tamanho do string de cada categoria, conforme descrito pela documentação do [pandas](https://pandas.pydata.org/docs/user_guide/categorical.html#gotchas). O tipo de variável `object`, anterioremnte atribuído, é uma constante que multiplicada pelo tamanho da string, aloca o resultado como custo da memória."
   ]
  },
  {
   "cell_type": "markdown",
   "id": "b9c270f6-0c7e-4b44-8ca5-8aa47433aef7",
   "metadata": {},
   "source": [
    "# Data Preparation"
   ]
  },
  {
   "cell_type": "code",
   "execution_count": 14,
   "id": "fea25a61-6061-4bb7-b6d1-dfab8c7f04f4",
   "metadata": {},
   "outputs": [],
   "source": [
    "df[\"sex\"] = df['sex'].astype(\"category\")\n",
    "df['smoker'] = df['smoker'].astype(\"category\")\n",
    "df['region'] = df['region'].astype(\"category\")"
   ]
  },
  {
   "cell_type": "code",
   "execution_count": 15,
   "id": "f7723092-1a16-4739-91af-072ebca96ce0",
   "metadata": {},
   "outputs": [
    {
     "name": "stdout",
     "output_type": "stream",
     "text": [
      "<class 'pandas.core.frame.DataFrame'>\n",
      "RangeIndex: 1338 entries, 0 to 1337\n",
      "Data columns (total 7 columns):\n",
      " #   Column    Non-Null Count  Dtype   \n",
      "---  ------    --------------  -----   \n",
      " 0   age       1338 non-null   int64   \n",
      " 1   sex       1338 non-null   category\n",
      " 2   bmi       1338 non-null   float64 \n",
      " 3   children  1338 non-null   int64   \n",
      " 4   smoker    1338 non-null   category\n",
      " 5   region    1338 non-null   category\n",
      " 6   charges   1338 non-null   float64 \n",
      "dtypes: category(3), float64(2), int64(2)\n",
      "memory usage: 46.3 KB\n"
     ]
    }
   ],
   "source": [
    "df.info()"
   ]
  },
  {
   "cell_type": "markdown",
   "id": "102146a7-5bda-4719-83e5-07147c372fd4",
   "metadata": {},
   "source": [
    "Podemos perceber uma diminuição de **73.3+ KB** para **46.3 KB**"
   ]
  },
  {
   "cell_type": "markdown",
   "id": "806192fc-5a95-4866-9454-38bfd94b1a2b",
   "metadata": {},
   "source": [
    "# Modeling"
   ]
  },
  {
   "cell_type": "markdown",
   "id": "e641f7e9-cb7e-47b7-9995-03cbf582a6a9",
   "metadata": {},
   "source": [
    "## Descrição estatística - variáveis quantitativas"
   ]
  },
  {
   "cell_type": "code",
   "execution_count": 16,
   "id": "45d3459e-6c56-4045-a72d-37bba86cc483",
   "metadata": {},
   "outputs": [
    {
     "data": {
      "text/html": [
       "<div>\n",
       "<style scoped>\n",
       "    .dataframe tbody tr th:only-of-type {\n",
       "        vertical-align: middle;\n",
       "    }\n",
       "\n",
       "    .dataframe tbody tr th {\n",
       "        vertical-align: top;\n",
       "    }\n",
       "\n",
       "    .dataframe thead th {\n",
       "        text-align: right;\n",
       "    }\n",
       "</style>\n",
       "<table border=\"1\" class=\"dataframe\">\n",
       "  <thead>\n",
       "    <tr style=\"text-align: right;\">\n",
       "      <th></th>\n",
       "      <th>count</th>\n",
       "      <th>mean</th>\n",
       "      <th>std</th>\n",
       "      <th>min</th>\n",
       "      <th>25%</th>\n",
       "      <th>50%</th>\n",
       "      <th>75%</th>\n",
       "      <th>max</th>\n",
       "    </tr>\n",
       "  </thead>\n",
       "  <tbody>\n",
       "    <tr>\n",
       "      <th>age</th>\n",
       "      <td>1338.0</td>\n",
       "      <td>39.207025</td>\n",
       "      <td>14.049960</td>\n",
       "      <td>18.0000</td>\n",
       "      <td>27.00000</td>\n",
       "      <td>39.000</td>\n",
       "      <td>51.000000</td>\n",
       "      <td>64.00000</td>\n",
       "    </tr>\n",
       "    <tr>\n",
       "      <th>bmi</th>\n",
       "      <td>1338.0</td>\n",
       "      <td>30.663397</td>\n",
       "      <td>6.098187</td>\n",
       "      <td>15.9600</td>\n",
       "      <td>26.29625</td>\n",
       "      <td>30.400</td>\n",
       "      <td>34.693750</td>\n",
       "      <td>53.13000</td>\n",
       "    </tr>\n",
       "    <tr>\n",
       "      <th>children</th>\n",
       "      <td>1338.0</td>\n",
       "      <td>1.094918</td>\n",
       "      <td>1.205493</td>\n",
       "      <td>0.0000</td>\n",
       "      <td>0.00000</td>\n",
       "      <td>1.000</td>\n",
       "      <td>2.000000</td>\n",
       "      <td>5.00000</td>\n",
       "    </tr>\n",
       "    <tr>\n",
       "      <th>charges</th>\n",
       "      <td>1338.0</td>\n",
       "      <td>13270.422265</td>\n",
       "      <td>12110.011237</td>\n",
       "      <td>1121.8739</td>\n",
       "      <td>4740.28715</td>\n",
       "      <td>9382.033</td>\n",
       "      <td>16639.912515</td>\n",
       "      <td>63770.42801</td>\n",
       "    </tr>\n",
       "  </tbody>\n",
       "</table>\n",
       "</div>"
      ],
      "text/plain": [
       "           count          mean           std        min         25%       50%           75%          max\n",
       "age       1338.0     39.207025     14.049960    18.0000    27.00000    39.000     51.000000     64.00000\n",
       "bmi       1338.0     30.663397      6.098187    15.9600    26.29625    30.400     34.693750     53.13000\n",
       "children  1338.0      1.094918      1.205493     0.0000     0.00000     1.000      2.000000      5.00000\n",
       "charges   1338.0  13270.422265  12110.011237  1121.8739  4740.28715  9382.033  16639.912515  63770.42801"
      ]
     },
     "execution_count": 16,
     "metadata": {},
     "output_type": "execute_result"
    }
   ],
   "source": [
    "df.describe().T"
   ]
  },
  {
   "cell_type": "markdown",
   "id": "f9c8c4d1-d19b-4fb4-b325-813b617fbcc3",
   "metadata": {},
   "source": [
    "### Considerações\n",
    "\n",
    "- Alta variabilidade nas idades e despesas.  \n",
    "- A idade média é 39.2 anos e a idade máxima é 64.  \n",
    "- Média de 30.66 de IMC (Índice de Massa Corporal), considerada fora dos padrões normais. O IMC máximo é de 53.13.\n",
    "- Gasto médio com custos de saúde em 13.270 K, mediana de 9.382 K e valor máximo gasto de 633.770 K. Temos uma assimetria positiva. A maioria possuem gastos menores do que a minoria. Este é o cenário que encontramos na renda populacional, por exemplo."
   ]
  },
  {
   "cell_type": "markdown",
   "id": "a7eda21f-0527-4213-9821-1a5e33c2cbdb",
   "metadata": {},
   "source": [
    "<center><img src=\"https://lh4.googleusercontent.com/proxy/AoLxdW6n96JG-yBf68h9D1uS7zgmIXVgWsyrslSVDN4iAjdFtcAZu-ZFyQHoarTunzJZYGArD9OhFRaTZhN196idh9pofGA573b7tmpQWXY_I07GGyQAfeJvLw\" width=\"500\" height=\"400\">"
   ]
  },
  {
   "cell_type": "markdown",
   "id": "8542b6a1-0200-4327-a366-e161bc9e397d",
   "metadata": {},
   "source": [
    "## Descrição estatística - variáveis qualitativas"
   ]
  },
  {
   "cell_type": "code",
   "execution_count": 17,
   "id": "10d8ef79-fbf4-47d5-bddb-f5958e15fd2a",
   "metadata": {},
   "outputs": [
    {
     "data": {
      "text/html": [
       "<div>\n",
       "<style scoped>\n",
       "    .dataframe tbody tr th:only-of-type {\n",
       "        vertical-align: middle;\n",
       "    }\n",
       "\n",
       "    .dataframe tbody tr th {\n",
       "        vertical-align: top;\n",
       "    }\n",
       "\n",
       "    .dataframe thead th {\n",
       "        text-align: right;\n",
       "    }\n",
       "</style>\n",
       "<table border=\"1\" class=\"dataframe\">\n",
       "  <thead>\n",
       "    <tr style=\"text-align: right;\">\n",
       "      <th></th>\n",
       "      <th>count</th>\n",
       "      <th>unique</th>\n",
       "      <th>top</th>\n",
       "      <th>freq</th>\n",
       "    </tr>\n",
       "  </thead>\n",
       "  <tbody>\n",
       "    <tr>\n",
       "      <th>sex</th>\n",
       "      <td>1338</td>\n",
       "      <td>2</td>\n",
       "      <td>male</td>\n",
       "      <td>676</td>\n",
       "    </tr>\n",
       "    <tr>\n",
       "      <th>smoker</th>\n",
       "      <td>1338</td>\n",
       "      <td>2</td>\n",
       "      <td>no</td>\n",
       "      <td>1064</td>\n",
       "    </tr>\n",
       "    <tr>\n",
       "      <th>region</th>\n",
       "      <td>1338</td>\n",
       "      <td>4</td>\n",
       "      <td>southeast</td>\n",
       "      <td>364</td>\n",
       "    </tr>\n",
       "  </tbody>\n",
       "</table>\n",
       "</div>"
      ],
      "text/plain": [
       "       count unique        top  freq\n",
       "sex     1338      2       male   676\n",
       "smoker  1338      2         no  1064\n",
       "region  1338      4  southeast   364"
      ]
     },
     "execution_count": 17,
     "metadata": {},
     "output_type": "execute_result"
    }
   ],
   "source": [
    "df.describe(include=\"category\").T"
   ]
  },
  {
   "cell_type": "markdown",
   "id": "67bb6a84-a7dd-462b-aa99-a1219f78e59c",
   "metadata": {},
   "source": [
    "### Considerações  \n",
    "\n",
    "- Os homens aparecem com mais frequência. Mas essa frequência é bem distante das mulheres?\n",
    "- O número de não fumantes é maior. Mas essa frequência é bem distante dos fumantes?\n",
    "- A região que mais possui custos é a sudeste."
   ]
  },
  {
   "cell_type": "markdown",
   "id": "4ffe3d49-4369-411a-a133-c0d5dfac2519",
   "metadata": {},
   "source": [
    "Vamos observar essa diferenças de frequências na Análise Exploratória de Dados"
   ]
  },
  {
   "cell_type": "markdown",
   "id": "ee14b769-33f1-499b-9fdd-4f2179047219",
   "metadata": {},
   "source": [
    "## Análise Exploratória de Dados"
   ]
  },
  {
   "cell_type": "markdown",
   "id": "874aa5fa-7478-4cab-b798-4ea0796a7905",
   "metadata": {},
   "source": [
    "### Distribuição das variáveis quantitativas"
   ]
  },
  {
   "cell_type": "code",
   "execution_count": 18,
   "id": "47b3bafa-ac21-4426-a159-b8cd80783d65",
   "metadata": {},
   "outputs": [],
   "source": [
    "def distribution_box_graph(data):\n",
    "\n",
    "    name = data.name.upper()\n",
    "    fig, (ax_box, ax_dis) = plt.subplots(2, 1, gridspec_kw = {\"height_ratios\": (.25, .75)}, figsize=(8, 5))\n",
    "    \n",
    "    mean = data.mean()\n",
    "    median = data.median()\n",
    "    mode = data.mode().tolist()[0]\n",
    "    \n",
    "    fig.suptitle(name, fontsize=18, fontweight='bold')\n",
    "    \n",
    "    sns.boxplot(x=data, showmeans=True, orient='h', color=\"darkslateblue\", ax=ax_box)\n",
    "    ax_box.set(xlabel='')\n",
    "    \n",
    "    sns.distplot(data, kde=False, color='royalblue', ax=ax_dis)\n",
    "    \n",
    "    ax_dis.axvline(mean, color='r', linestyle='--', linewidth=2)\n",
    "    ax_dis.axvline(median, color='g', linestyle='-', linewidth=2)\n",
    "    ax_dis.axvline(mode, color='b', linestyle='-', linewidth=2)\n",
    "    \n",
    "    plt.legend({'Mean':mean, 'Median':median, 'Mode':mode})"
   ]
  },
  {
   "cell_type": "code",
   "execution_count": 19,
   "id": "4bb3400e-1112-4107-bfde-6e78a43ea857",
   "metadata": {},
   "outputs": [
    {
     "data": {
      "image/png": "[encoded data removed]",
      "text/plain": [
       "<Figure size 800x500 with 2 Axes>"
      ]
     },
     "metadata": {},
     "output_type": "display_data"
    },
    {
     "data": {
      "image/png": "[encoded data removed]",
      "text/plain": [
       "<Figure size 800x500 with 2 Axes>"
      ]
     },
     "metadata": {},
     "output_type": "display_data"
    },
    {
     "data": {
      "image/png": "[encoded data removed]",
      "text/plain": [
       "<Figure size 800x500 with 2 Axes>"
      ]
     },
     "metadata": {},
     "output_type": "display_data"
    },
    {
     "data": {
      "image/png": "[encoded data removed]",
      "text/plain": [
       "<Figure size 800x500 with 2 Axes>"
      ]
     },
     "metadata": {},
     "output_type": "display_data"
    }
   ],
   "source": [
    "columns = df.select_dtypes([pd.Float64Dtype, pd.Int64Dtype]).columns.to_list()\n",
    "for col in range(len(columns)):\n",
    "    distribution_box_graph(df[columns[col]])"
   ]
  },
  {
   "cell_type": "markdown",
   "id": "9a5c7537-d262-499c-9485-f558c9b260a5",
   "metadata": {},
   "source": [
    "- **Age**: Os indivíduos entre 18 e 20 anos são maioria.  \n",
    "- **BMI**: O gráfico de BMI apresenta uma distribuição aproximadamente simétrica, isto é, apresenta graficamente a característica de uma distribuição normal. Os valores atípicos estão na cuda à direita.  \n",
    "- **Children**: A maioria dos beneficiários não possuem filhos.  \n",
    "- **Charges**: Também apresenta valores atípicos na cauda à direita.  "
   ]
  },
  {
   "cell_type": "markdown",
   "id": "cf748f0d-e770-4bb4-b217-9fb23558e18e",
   "metadata": {},
   "source": [
    "### Proporção das variáveis categóricas"
   ]
  },
  {
   "cell_type": "code",
   "execution_count": 20,
   "id": "e7c53e07-01ac-42bf-9b45-b34b5fd1066e",
   "metadata": {},
   "outputs": [],
   "source": [
    "def proportion_bar(plot, feature):\n",
    "    total = len(feature) # length of the column\n",
    "    \n",
    "    for p in plot.patches:\n",
    "        percentage = f'{100 * p.get_height()/total:.1f}%' # percentage of each class of the category\n",
    "        x = p.get_x() + p.get_width() / 2 - 0.05 # width of the plot\n",
    "        y = p.get_y() + p.get_height()           # hieght of the plot\n",
    "        plot.annotate(percentage, (x, y), size = 12) # annotate the percentage"
   ]
  },
  {
   "cell_type": "code",
   "execution_count": 21,
   "id": "1424f9e1-897f-4041-aea9-b2122b10925e",
   "metadata": {},
   "outputs": [
    {
     "data": {
      "image/png": "[encoded data removed]",
      "text/plain": [
       "<Figure size 1400x500 with 3 Axes>"
      ]
     },
     "metadata": {},
     "output_type": "display_data"
    }
   ],
   "source": [
    "columns = df.select_dtypes(['category']).columns.to_list()\n",
    "fig, axes = plt.subplots(1, 3, figsize=(14, 5))\n",
    "for col in range(len(columns)):\n",
    "    order = df[columns[col]].value_counts(ascending=False).index # to display bar in ascending order\n",
    "    axis=sns.countplot(x=columns[col], data=df, order=order, ax=axes[col], palette='vlag').set(title=columns[col].upper())\n",
    "    proportion_bar(axes[col], df[columns[col]])"
   ]
  },
  {
   "cell_type": "markdown",
   "id": "44586355-0877-46fd-a152-16afe0140f8f",
   "metadata": {},
   "source": [
    "- A diferença entre homens e mulheres é bem pequena.\n",
    "- A quantidade de não fumantes é consideravelmente maior que fumantes\n",
    "- A região com mais gastos é a sudeste, embora o restante apresente um padrão uniforme."
   ]
  },
  {
   "cell_type": "markdown",
   "id": "02857190-7ac7-4b9a-a62c-74257f8da185",
   "metadata": {},
   "source": [
    "### Correlação"
   ]
  },
  {
   "cell_type": "markdown",
   "id": "8e43d539-ae87-4ff5-984c-63e968162580",
   "metadata": {},
   "source": [
    "Podemos fazer uma série de suposições a respeito da relação que as features do nosso dataset possuem, dentre elas:\n",
    "1. A relação entre gastos com despesas médicas e a idade é positiva? \n",
    "2. A relação entre gastos com despesas médicas e o IMC é positivo?\n",
    "\n",
    "Será que essas suposições refletem a realidade dos dados? Lembrando que correlação não implica em causalidade. Essa análise mede somente a relação e a força entre as variáveis."
   ]
  },
  {
   "cell_type": "code",
   "execution_count": 22,
   "id": "9d3d5cf7-41e6-4a7f-b5a7-4a20f60fd0a1",
   "metadata": {},
   "outputs": [
    {
     "data": {
      "image/png": "[encoded data removed]",
      "text/plain": [
       "<Figure size 1500x500 with 2 Axes>"
      ]
     },
     "metadata": {},
     "output_type": "display_data"
    }
   ],
   "source": [
    "plt.figure(figsize=(15,5))\n",
    "sns.heatmap(df.corr(numeric_only=True), annot=True, cmap=\"vlag\")\n",
    "plt.show()"
   ]
  },
  {
   "cell_type": "markdown",
   "id": "a24a33a5-806e-41ee-af0e-0c6b322a1dba",
   "metadata": {},
   "source": [
    "Podemos ver que existe uma relação positiva entre `charges` -> `age` e `bmi`, embora a força não seja tão grande para essa amostra. Podemos fazer um teste de hipótese para sustentar nossa afirmação. Antes, precisamos verificar se os dados de charges, age e bmi seguem uma distribuição normal, como parte da premissa para o teste de correlação."
   ]
  },
  {
   "cell_type": "code",
   "execution_count": 23,
   "id": "e69d3ffa-26a0-49d4-b1a0-f2f785ef09c5",
   "metadata": {},
   "outputs": [
    {
     "name": "stdout",
     "output_type": "stream",
     "text": [
      "Há evidências o suficiente para rejeitar H0. Os dados não seguem uma normal.\n"
     ]
    }
   ],
   "source": [
    "if stats.shapiro(df[\"charges\"])[1] < 0.05:\n",
    "    print(\"Há evidências o suficiente para rejeitar H0. Os dados não seguem uma normal.\")\n",
    "else:\n",
    "    print(\"Não há evidências o suficiente para rejeitar H0. Os dados seguem uma normal.\")"
   ]
  },
  {
   "cell_type": "code",
   "execution_count": 24,
   "id": "4a36e240-b3bd-4960-adf3-1e01ad90cb50",
   "metadata": {},
   "outputs": [
    {
     "name": "stdout",
     "output_type": "stream",
     "text": [
      "Há evidências o suficiente para rejeitar H0. Os dados não seguem uma normal.\n"
     ]
    }
   ],
   "source": [
    "if stats.shapiro(df[\"bmi\"])[1] < 0.05:\n",
    "    print(\"Há evidências o suficiente para rejeitar H0. Os dados não seguem uma normal.\")\n",
    "else:\n",
    "    print(\"Não há evidências o suficiente para rejeitar H0. Os dados seguem uma normal.\")"
   ]
  },
  {
   "cell_type": "code",
   "execution_count": 25,
   "id": "d9bd455a-e074-49a9-9b39-78283319a238",
   "metadata": {},
   "outputs": [
    {
     "name": "stdout",
     "output_type": "stream",
     "text": [
      "Há evidências o suficiente para rejeitar H0. Os dados não seguem uma normal.\n"
     ]
    }
   ],
   "source": [
    "if stats.shapiro(df[\"age\"])[1] < 0.05:\n",
    "    print(\"Há evidências o suficiente para rejeitar H0. Os dados não seguem uma normal.\")\n",
    "else:\n",
    "    print(\"Não há evidências o suficiente para rejeitar H0. Os dados seguem uma normal.\")"
   ]
  },
  {
   "cell_type": "markdown",
   "id": "1b419ef1-1f33-4275-9ef8-37b914ad3ea7",
   "metadata": {},
   "source": [
    "### Testando hipóteses"
   ]
  },
  {
   "cell_type": "markdown",
   "id": "85959a59-62de-4d0c-a315-1e7337e697df",
   "metadata": {},
   "source": [
    "1. As solicitações de despesas médicas de pessoas que fumam é maior que as solicitações de não fumantes?\n",
    "2. Há diferença entre as médias de IMC de mulheres e homens?\n",
    "3. A proporção de fumantes e não fumantes entre diferentes regiões?\n",
    "4. A média de IMC para mãe com um, dois filhos ou sem filhos é diferente ou é igual?"
   ]
  },
  {
   "cell_type": "markdown",
   "id": "f061fd31-6bc6-4dee-a5db-843518548030",
   "metadata": {},
   "source": [
    "#### 1. As solicitações de despesas médicas de pessoas que fumam é maior que as solicitações de não fumantes?"
   ]
  },
  {
   "cell_type": "markdown",
   "id": "faa2645a-59cd-4338-93d6-e11c5270b6cb",
   "metadata": {},
   "source": [
    "<div class =\"alert alert-block alert-danger\">\n",
    "    <font size=3><b>Passo 1: definindo a hipótese nula e alternativa</b></font><br>\n",
    "$\\ H_0  :  \\mu_1 <= \\mu_2  $: A média de gastos de fumantes é menor que ou igual aos não fumantes\n",
    "<br>$\\ H_a  :\\mu_1 > \\mu_2 $: A média de gastos de fumantes é maior que os não fumantes <br>\n",
    "</div>"
   ]
  },
  {
   "cell_type": "markdown",
   "id": "8fae0ada-26bb-40f9-944f-d3bf9451db31",
   "metadata": {},
   "source": [
    "<div class =\"alert alert-block alert-danger\">\n",
    "    <font size=3><b>Passo 2: estabelecer o nível de significância. Se o p-valor < significância, então rejeitamos H0.</b></font>\n",
    "\n",
    "α = 0.05"
   ]
  },
  {
   "cell_type": "code",
   "execution_count": 26,
   "id": "0c48752d-3f27-43c0-8377-ee68219c9771",
   "metadata": {},
   "outputs": [],
   "source": [
    "alpha = 0.05"
   ]
  },
  {
   "cell_type": "markdown",
   "id": "23854ab5-a661-4537-9b0c-4ab261384de8",
   "metadata": {},
   "source": [
    "<div class =\"alert alert-block alert-danger\">\n",
    "    <font size=3><b>Passo 3: identificando o teste</b></font>\n",
    "\n",
    "Queremos avaliar dois grupo: **fumantes** e **não fumantes**; e não há conhecimento sobre o desvio-padrão populacional (como já é esperado). O tipo de teste é **independente**, uma vez que os indivíduos de ambas as amostras não estão relacionados, portanto, conclu-se que deve ser usado o **Teste t de Student**. Resta saber se a variância entre os grupos é **homocedastica (iguais)** ou **heterocedasticas (diferentes)**. Para isso, irei usar o **Teste de Barlett**.  \n",
    "\n",
    "Outra informação importante é entender qual porção da cauda será usada. A pergunta se referente a identificar se um grupo é maior que outro, logo, o teste será **unicaudal à direita**."
   ]
  },
  {
   "cell_type": "markdown",
   "id": "e3d9cf53-b071-4c89-aa84-fe7017f58933",
   "metadata": {},
   "source": [
    "<div class =\"alert alert-block alert-danger\">\n",
    "<font size=3><b>Passo 4: calcular o Teste t de Student, Teste de Barlett e o p-valor</b></font>\n",
    "\n",
    "**Teste t de Student**: será usado para avaliar a média para dois groups  \n",
    "**Teste de Barlett**: será usado para avaliar se a variância entre os grupos é igual ou diferente.  \n",
    "**p-valor**: é a probabilidade de observarmos uma estatística de teste igual ou tão extremo ao obtido, sob a hipótese nula."
   ]
  },
  {
   "cell_type": "markdown",
   "id": "740db194-7814-4a08-88f6-124d9c7552c9",
   "metadata": {},
   "source": [
    "##### Gerando os grupos  \n",
    "\n",
    "Como há uma grande diferença na quantidade de dados entre a quantidade não fumantes, irei gerar uma amostra aleatória com a função `sample`, que deve resultar na mesma quantidade presente no conjunto de fumantes."
   ]
  },
  {
   "cell_type": "code",
   "execution_count": 27,
   "id": "dd886a37-7521-44d6-b698-bfdf86f88586",
   "metadata": {},
   "outputs": [],
   "source": [
    "def generate_smokernosmoker_groups(df):\n",
    "    smoker = df.loc[df[\"smoker\"]==\"yes\"]\n",
    "\n",
    "    nonsmoker = df.loc[df[\"smoker\"]=='no']\n",
    "    nonsmoker = nonsmoker.sample(smoker.count()[0], random_state=42)\n",
    "\n",
    "    return smoker, nonsmoker"
   ]
  },
  {
   "cell_type": "code",
   "execution_count": 28,
   "id": "7a253e9e-37a4-4486-8bf5-5121e32ca9ef",
   "metadata": {},
   "outputs": [],
   "source": [
    "def generate_smokernonsmoker_charges(smoker, nonsmoker):\n",
    "    \n",
    "    smoker_charges = smoker[\"charges\"]\n",
    "    nonsmoker_charges = nonsmoker[\"charges\"]\n",
    "\n",
    "    return smoker_charges, nonsmoker_charges"
   ]
  },
  {
   "cell_type": "code",
   "execution_count": 29,
   "id": "27127594-91ef-451f-b8a8-39a8f4c5dac0",
   "metadata": {},
   "outputs": [],
   "source": [
    "def normal_test(data):\n",
    "    \n",
    "    if stats.shapiro(data)[0] < alpha:\n",
    "        response = \"Há evidências para rejeitar H0. Os dados não são normalmente distribuídos\"\n",
    "    else:\n",
    "        return stats.shapiro(data)[0]"
   ]
  },
  {
   "cell_type": "code",
   "execution_count": 30,
   "id": "1f3ac362-a7bd-4344-9081-463cb5d51654",
   "metadata": {},
   "outputs": [],
   "source": [
    "def variance_test(A, B):\n",
    "    if stats.bartlett(A, B)[0] < alpha:\n",
    "        response = \"Não há evidências para rejeitar H0. As variâncias não são iguais\"\n",
    "        return response, True\n",
    "    else:\n",
    "        response = \"Não há evidências para rejeitar H0. As variâncias são iguais\"\n",
    "        return response, False"
   ]
  },
  {
   "cell_type": "code",
   "execution_count": 31,
   "id": "6b4f07b2-d3db-4348-9329-7df8630f00ad",
   "metadata": {},
   "outputs": [
    {
     "name": "stdout",
     "output_type": "stream",
     "text": [
      "Média de custo para fumantes: 32050.23183153284\n",
      "Média de custo para não fumantes: 8335.549181021897\n",
      "\n",
      "==================================================\n",
      "\n",
      "Ambas as amostras possuem distribuição normal\n",
      "Smoker Charge - P-valor: 0.9395519386965634\n",
      "Nonsmoker Charge - P-valor: 0.8859906182043192\n",
      "\n",
      "==================================================\n",
      "\n",
      "Há evidências para rejeitar H0. A média de gastos com despesas médicas não é menor para não fumantes.\n"
     ]
    }
   ],
   "source": [
    "smoker, nonsmoker = generate_smokernosmoker_groups(df)\n",
    "smoker_charges, nonsmoker_charges = generate_smokernonsmoker_charges(smoker, nonsmoker)\n",
    "\n",
    "print(f\"Média de custo para fumantes: {smoker_charges.mean()}\\nMédia de custo para não fumantes: {nonsmoker_charges.mean()}\\n\")\n",
    "print(\"=\"*50, end=\"\\n\\n\")\n",
    "\n",
    "if isinstance(normal_test(smoker_charges), float) & isinstance(normal_test(nonsmoker_charges), float):\n",
    "    print(\"Ambas as amostras possuem distribuição normal\")\n",
    "elif isinstance(normal_test(smoker_charges), float) & isinstance(normal_test(nonsmoker_charges), str):\n",
    "    print(\"Somente a distribuição de fumantes é normalmente distribuída.\")\n",
    "elif isinstance(normal_test(smoker_charges), str) & isinstance(normal_test(nonsmoker_charges), float):\n",
    "    print(\"Somente a distribuição de não fumantes é normalmente distribuída.\")\n",
    "else:\n",
    "    print(\"Ambas as distribuições não são normalmente distribuídas.\")\n",
    "\n",
    "print(f\"Smoker Charge - P-valor: {normal_test(smoker_charges)}\")\n",
    "print(f\"Nonsmoker Charge - P-valor: {normal_test(nonsmoker_charges)}\\n\")\n",
    "print(\"=\"*50, end=\"\\n\\n\")\n",
    "\n",
    "response, variance = variance_test(smoker_charges, nonsmoker_charges)\n",
    "\n",
    "stat_test, pvalue = stats.ttest_ind(a=smoker_charges, b=nonsmoker_charges, equal_var=variance, alternative=\"greater\")\n",
    "\n",
    "if pvalue < alpha:\n",
    "    print(\"Há evidências para rejeitar H0. A média de gastos com despesas médicas não é menor para não fumantes.\")\n",
    "else:\n",
    "    print(\"Não há evidências para rejeitar H0.\")"
   ]
  },
  {
   "cell_type": "markdown",
   "id": "8378cd2d-1a30-4960-9dc6-9e1e6bd72f0c",
   "metadata": {},
   "source": [
    "<div class =\"alert alert-block alert-danger\">\n",
    "    <font size=3><b>Passo 5: decidir o resultado do teste de acordo com a estatística de teste e p-valor</b></font><br>    \n",
    "    Rejeita-se a hipótese nula e pode conclui-se que as pessoas que fumam têm, em média, maiores gastos médicos em comparação com as pessoas que não fumam."
   ]
  },
  {
   "cell_type": "markdown",
   "id": "006c3813-e5fc-47cc-8860-12470902e067",
   "metadata": {},
   "source": [
    "### 4. A média de IMC para mãe com um, dois filhos ou sem filhos é diferente ou é igual?"
   ]
  },
  {
   "cell_type": "code",
   "execution_count": 32,
   "id": "e251ec87-7d13-40ce-8f95-8aa8e3073ba5",
   "metadata": {},
   "outputs": [
    {
     "data": {
      "text/html": [
       "<div>\n",
       "<style scoped>\n",
       "    .dataframe tbody tr th:only-of-type {\n",
       "        vertical-align: middle;\n",
       "    }\n",
       "\n",
       "    .dataframe tbody tr th {\n",
       "        vertical-align: top;\n",
       "    }\n",
       "\n",
       "    .dataframe thead th {\n",
       "        text-align: right;\n",
       "    }\n",
       "</style>\n",
       "<table border=\"1\" class=\"dataframe\">\n",
       "  <thead>\n",
       "    <tr style=\"text-align: right;\">\n",
       "      <th></th>\n",
       "      <th>df</th>\n",
       "      <th>sum_sq</th>\n",
       "      <th>mean_sq</th>\n",
       "      <th>F</th>\n",
       "      <th>PR(&gt;F)</th>\n",
       "    </tr>\n",
       "  </thead>\n",
       "  <tbody>\n",
       "    <tr>\n",
       "      <th>C(children)</th>\n",
       "      <td>2.0</td>\n",
       "      <td>31.631915</td>\n",
       "      <td>15.815957</td>\n",
       "      <td>0.416983</td>\n",
       "      <td>0.659133</td>\n",
       "    </tr>\n",
       "    <tr>\n",
       "      <th>Residual</th>\n",
       "      <td>1135.0</td>\n",
       "      <td>43049.991501</td>\n",
       "      <td>37.929508</td>\n",
       "      <td>NaN</td>\n",
       "      <td>NaN</td>\n",
       "    </tr>\n",
       "  </tbody>\n",
       "</table>\n",
       "</div>"
      ],
      "text/plain": [
       "                 df        sum_sq    mean_sq         F    PR(>F)\n",
       "C(children)     2.0     31.631915  15.815957  0.416983  0.659133\n",
       "Residual     1135.0  43049.991501  37.929508       NaN       NaN"
      ]
     },
     "execution_count": 32,
     "metadata": {},
     "output_type": "execute_result"
    }
   ],
   "source": [
    "df_female_child = df.loc[df['children']<=2]\n",
    "\n",
    "formula = 'bmi ~ C(children)'\n",
    "model = ols(formula, df_female_child).fit()\n",
    "aov_table = anova_lm(model)\n",
    "aov_table"
   ]
  },
  {
   "cell_type": "markdown",
   "id": "bf6f344b-5823-461b-8603-9ddee1c08485",
   "metadata": {},
   "source": [
    "## Desenvolvendo o modelo  \n",
    "\n",
    "O modelo de regressão linear será modelado para a equação da reta:  "
   ]
  },
  {
   "cell_type": "code",
   "execution_count": 48,
   "id": "451e70d9-78fb-4918-bc34-6742a1e68ebe",
   "metadata": {},
   "outputs": [
    {
     "name": "stdout",
     "output_type": "stream",
     "text": [
      "                            OLS Regression Results                            \n",
      "==============================================================================\n",
      "Dep. Variable:                charges   R-squared:                       0.751\n",
      "Model:                            OLS   Adj. R-squared:                  0.749\n",
      "Method:                 Least Squares   F-statistic:                     500.8\n",
      "Date:                Mon, 20 Jan 2025   Prob (F-statistic):               0.00\n",
      "Time:                        22:16:07   Log-Likelihood:                -13548.\n",
      "No. Observations:                1338   AIC:                         2.711e+04\n",
      "Df Residuals:                    1329   BIC:                         2.716e+04\n",
      "Df Model:                           8                                         \n",
      "Covariance Type:            nonrobust                                         \n",
      "=======================================================================================\n",
      "                          coef    std err          t      P>|t|      [0.025      0.975]\n",
      "---------------------------------------------------------------------------------------\n",
      "Intercept           -1.194e+04    987.819    -12.086      0.000   -1.39e+04      -1e+04\n",
      "sex[T.male]          -131.3144    332.945     -0.394      0.693    -784.470     521.842\n",
      "smoker[T.yes]        2.385e+04    413.153     57.723      0.000     2.3e+04    2.47e+04\n",
      "region[T.northwest]  -352.9639    476.276     -0.741      0.459   -1287.298     581.370\n",
      "region[T.southeast] -1035.0220    478.692     -2.162      0.031   -1974.097     -95.947\n",
      "region[T.southwest]  -960.0510    477.933     -2.009      0.045   -1897.636     -22.466\n",
      "age                   256.8564     11.899     21.587      0.000     233.514     280.199\n",
      "bmi                   339.1935     28.599     11.860      0.000     283.088     395.298\n",
      "children              475.5005    137.804      3.451      0.001     205.163     745.838\n",
      "==============================================================================\n",
      "Omnibus:                      300.366   Durbin-Watson:                   2.088\n",
      "Prob(Omnibus):                  0.000   Jarque-Bera (JB):              718.887\n",
      "Skew:                           1.211   Prob(JB):                    7.86e-157\n",
      "Kurtosis:                       5.651   Cond. No.                         311.\n",
      "==============================================================================\n",
      "\n",
      "Notes:\n",
      "[1] Standard Errors assume that the covariance matrix of the errors is correctly specified.\n"
     ]
    }
   ],
   "source": [
    "model = ols(\"charges ~ age + sex + smoker + region  + bmi + children\", data=df).fit()\n",
    "print(model.summary())"
   ]
  },
  {
   "cell_type": "markdown",
   "id": "9262d6ba-13a5-452e-b9a2-e886b24787d0",
   "metadata": {},
   "source": [
    "## Obtendo estimadores BLUE"
   ]
  },
  {
   "cell_type": "markdown",
   "id": "5697d422-af5f-4c0c-9b1a-433ebd347b38",
   "metadata": {},
   "source": [
    "### 1) Linearidade nos parâmetros  \n",
    "\n",
    "É especificado pelo modelo:  \n",
    "\n",
    "$charges = B_0 + B_1 * age + B_2 * sex + B_3 * smoker + B_4 * region + B_5 * bmi + B_6 * children$"
   ]
  },
  {
   "cell_type": "markdown",
   "id": "02d37548-fd67-44f0-a2bf-90874be98fc1",
   "metadata": {},
   "source": [
    "### 2) A média do termo de erro é igual a zero  "
   ]
  },
  {
   "cell_type": "code",
   "execution_count": 50,
   "id": "55fb1ada-6875-4eb6-a451-11ec28e7fbb2",
   "metadata": {},
   "outputs": [
    {
     "data": {
      "text/plain": [
       "np.float64(-0.0)"
      ]
     },
     "execution_count": 50,
     "metadata": {},
     "output_type": "execute_result"
    }
   ],
   "source": [
    "model.resid.mean().round(2)"
   ]
  },
  {
   "cell_type": "markdown",
   "id": "06f82cfb-5e13-426e-bc76-34d0f688d740",
   "metadata": {},
   "source": []
  },
  {
   "cell_type": "markdown",
   "id": "8b9276e0-3b6b-4b53-86c7-7a38b5ea078f",
   "metadata": {},
   "source": []
  },
  {
   "cell_type": "markdown",
   "id": "1de61c48-c7f2-4fc8-b823-a6028b7312cd",
   "metadata": {},
   "source": []
  },
  {
   "cell_type": "code",
   "execution_count": 33,
   "id": "07575e71-0c0e-4545-8b67-216bdc480fb5",
   "metadata": {},
   "outputs": [
    {
     "data": {
      "text/plain": [
       "((1070, 6), (268, 6))"
      ]
     },
     "execution_count": 33,
     "metadata": {},
     "output_type": "execute_result"
    }
   ],
   "source": [
    "X = df.drop(\"charges\", axis=1)\n",
    "y = df[\"charges\"]\n",
    "\n",
    "X_train, X_test, y_train, y_test = train_test_split(X, y, test_size=0.2, random_state=42)\n",
    "\n",
    "X_train.shape, X_test.shape"
   ]
  },
  {
   "cell_type": "code",
   "execution_count": 34,
   "id": "1016ab74-112a-40f9-b161-d12d718fb826",
   "metadata": {},
   "outputs": [
    {
     "data": {
      "text/plain": [
       "(['sex', 'smoker', 'region'], ['age', 'bmi', 'children'])"
      ]
     },
     "execution_count": 34,
     "metadata": {},
     "output_type": "execute_result"
    }
   ],
   "source": [
    "categorical_features = X_train.select_dtypes(include=[\"category\"]).columns.to_list()\n",
    "numerical_features = X.select_dtypes(exclude=[\"category\"]).columns.to_list()\n",
    "categorical_features, numerical_features"
   ]
  },
  {
   "cell_type": "code",
   "execution_count": null,
   "id": "b3d138ad-13a8-4713-a218-8f0193d8b210",
   "metadata": {},
   "outputs": [],
   "source": []
  },
  {
   "cell_type": "code",
   "execution_count": null,
   "id": "85a14281-e1b5-4d5c-8fe0-33689ba5a8d1",
   "metadata": {},
   "outputs": [],
   "source": []
  }
 ],
 "metadata": {
  "kernelspec": {
   "display_name": "Python 3 (ipykernel)",
   "language": "python",
   "name": "python3"
  },
  "language_info": {
   "codemirror_mode": {
    "name": "ipython",
    "version": 3
   },
   "file_extension": ".py",
   "mimetype": "text/x-python",
   "name": "python",
   "nbconvert_exporter": "python",
   "pygments_lexer": "ipython3",
   "version": "3.11.4"
  }
 },
 "nbformat": 4,
 "nbformat_minor": 5
}
