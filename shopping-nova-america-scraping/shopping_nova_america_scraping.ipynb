{
 "cells": [
  {
   "cell_type": "code",
   "execution_count": 1,
   "id": "8d957c08",
   "metadata": {
    "ExecuteTime": {
     "end_time": "2023-03-20T02:18:27.886644Z",
     "start_time": "2023-03-20T02:18:27.568194Z"
    }
   },
   "outputs": [],
   "source": [
    "import re\n",
    "import pandas as pd\n",
    "import numpy as np\n",
    "from bs4 import BeautifulSoup\n",
    "from urllib.request import Request, urlopen\n",
    "from urllib.error import URLError, HTTPError"
   ]
  },
  {
   "cell_type": "code",
   "execution_count": 2,
   "id": "4bfe4e2c",
   "metadata": {
    "ExecuteTime": {
     "end_time": "2023-03-20T02:18:27.902656Z",
     "start_time": "2023-03-20T02:18:27.887646Z"
    }
   },
   "outputs": [],
   "source": [
    "def extractHtmlScript(url):\n",
    "    try:\n",
    "        req = Request(url, headers={'User-Agent':'Mozilla/5.0'})\n",
    "        response = urlopen(req)\n",
    "        html = response.read()\n",
    "        soup=BeautifulSoup(html,'html.parser')\n",
    "    except HTTPError as e:\n",
    "        print(e.status, e.reason)\n",
    "    except URLError as e:\n",
    "        print(e.reason)\n",
    "    \n",
    "    return soup"
   ]
  },
  {
   "cell_type": "code",
   "execution_count": 3,
   "id": "90f8da4a",
   "metadata": {
    "ExecuteTime": {
     "end_time": "2023-03-20T02:18:28.345088Z",
     "start_time": "2023-03-20T02:18:27.903661Z"
    }
   },
   "outputs": [],
   "source": [
    "soup_lojas = extractHtmlScript(url='https://www.novaamerica.com.br/lojas')"
   ]
  },
  {
   "cell_type": "code",
   "execution_count": 4,
   "id": "f4f2aeeb",
   "metadata": {
    "ExecuteTime": {
     "end_time": "2023-03-20T02:18:29.414824Z",
     "start_time": "2023-03-20T02:18:28.346090Z"
    }
   },
   "outputs": [],
   "source": [
    "lista_loja = []\n",
    "for loja in range(len(soup_lojas.find_all('h4'))):\n",
    "    lista_loja.append(soup_lojas.find_all('h4')[loja].get_text())"
   ]
  },
  {
   "cell_type": "code",
   "execution_count": 5,
   "id": "d4a57c49",
   "metadata": {
    "ExecuteTime": {
     "end_time": "2023-03-20T02:18:33.152463Z",
     "start_time": "2023-03-20T02:18:29.415825Z"
    }
   },
   "outputs": [],
   "source": [
    "lista_segmento = []\n",
    "for segmento in range(len(soup_lojas.find_all('span', attrs={'class':'segmento'}))):\n",
    "    lista_segmento.append(soup_lojas.find_all('span', attrs={'class':'segmento'})[segmento].get_text())"
   ]
  },
  {
   "cell_type": "code",
   "execution_count": 6,
   "id": "b393bf27",
   "metadata": {
    "ExecuteTime": {
     "end_time": "2023-03-20T02:18:33.168482Z",
     "start_time": "2023-03-20T02:18:33.154469Z"
    }
   },
   "outputs": [],
   "source": [
    "df = pd.DataFrame([], columns=['lojas', 'segmentos'])\n",
    "df['lojas'] = lista_loja"
   ]
  },
  {
   "cell_type": "code",
   "execution_count": 7,
   "id": "59689539",
   "metadata": {
    "ExecuteTime": {
     "end_time": "2023-03-20T02:18:33.184497Z",
     "start_time": "2023-03-20T02:18:33.170485Z"
    }
   },
   "outputs": [],
   "source": [
    "df = df.drop(df.index[:4], axis=0).reset_index(drop=True)\n",
    "df = df.drop(df.index[246:], axis=0).reset_index(drop=True)"
   ]
  },
  {
   "cell_type": "code",
   "execution_count": 8,
   "id": "aef2c25d",
   "metadata": {
    "ExecuteTime": {
     "end_time": "2023-03-20T02:18:33.200510Z",
     "start_time": "2023-03-20T02:18:33.185498Z"
    }
   },
   "outputs": [],
   "source": [
    "df['segmentos'] = lista_segmento"
   ]
  },
  {
   "cell_type": "code",
   "execution_count": 9,
   "id": "a391e1e6",
   "metadata": {
    "ExecuteTime": {
     "end_time": "2023-03-20T02:18:33.216526Z",
     "start_time": "2023-03-20T02:18:33.201512Z"
    }
   },
   "outputs": [],
   "source": [
    "df['segmentos'].replace('', 'Não informado', inplace=True)"
   ]
  },
  {
   "cell_type": "code",
   "execution_count": 10,
   "id": "79b4ae04",
   "metadata": {
    "ExecuteTime": {
     "end_time": "2023-03-20T02:18:33.232540Z",
     "start_time": "2023-03-20T02:18:33.217527Z"
    }
   },
   "outputs": [],
   "source": [
    "df['administradora'] = 'Ancar Ivanhoe'\n",
    "df['estado'] = 'Rio de Janeiro'\n",
    "df['cidade'] = 'Rio de Janeiro'\n",
    "df['bairro'] = 'Del Castilho'\n",
    "df['uf'] = 'RJ'\n",
    "df['regiao'] = 'Sudeste'"
   ]
  },
  {
   "cell_type": "code",
   "execution_count": 11,
   "id": "64c76a99",
   "metadata": {
    "ExecuteTime": {
     "end_time": "2023-03-20T02:18:33.312560Z",
     "start_time": "2023-03-20T02:18:33.233541Z"
    }
   },
   "outputs": [],
   "source": [
    "soup_informacoes = extractHtmlScript(url='https://www.novaamerica.com.br/shopping-nova-america')"
   ]
  },
  {
   "cell_type": "code",
   "execution_count": 12,
   "id": "195af5eb",
   "metadata": {
    "ExecuteTime": {
     "end_time": "2023-03-20T02:18:33.328033Z",
     "start_time": "2023-03-20T02:18:33.313586Z"
    }
   },
   "outputs": [],
   "source": [
    "ul_tag = soup_informacoes.find(\"ul\", class_=\"list\")\n",
    "li_tag = ul_tag.find_all(\"li\")"
   ]
  },
  {
   "cell_type": "code",
   "execution_count": 13,
   "id": "24870002",
   "metadata": {
    "ExecuteTime": {
     "end_time": "2023-03-20T02:18:33.343696Z",
     "start_time": "2023-03-20T02:18:33.329033Z"
    }
   },
   "outputs": [],
   "source": [
    "lista_informacoes_extras = []\n",
    "for li in li_tag:\n",
    "    lista_informacoes_extras.append(li.text)"
   ]
  },
  {
   "cell_type": "code",
   "execution_count": 14,
   "id": "44c7d2b7",
   "metadata": {
    "ExecuteTime": {
     "end_time": "2023-03-20T02:18:33.359363Z",
     "start_time": "2023-03-20T02:18:33.344698Z"
    }
   },
   "outputs": [],
   "source": [
    "abl = lista_informacoes_extras[0]\n",
    "abl = re.findall(r'\\d+\\.\\d+', abl)\n",
    "abl = str(abl[0])\n",
    "\n",
    "area_construida = lista_informacoes_extras[1]\n",
    "area_construida = re.findall(r'\\d+', area_construida)\n",
    "area_construida = str(area_construida[0])\n",
    "area_construida = area_construida+'.000'\n",
    "\n",
    "num_lojas = lista_informacoes_extras[2]\n",
    "num_lojas = re.findall(r'\\d+', num_lojas)\n",
    "num_lojas = int(num_lojas[0])\n",
    "\n",
    "restaurantes = lista_informacoes_extras[3]\n",
    "restaurantes = re.findall(r'\\d+', restaurantes)\n",
    "restaurantes = int(restaurantes[0])\n",
    "\n",
    "lojas_ancoras = lista_informacoes_extras[4]\n",
    "lojas_ancoras = re.findall(r'\\d+', lojas_ancoras)\n",
    "lojas_ancoras = int(lojas_ancoras[0])\n",
    "\n",
    "megalojas = lista_informacoes_extras[5]\n",
    "megalojas = re.findall(r'\\d+', megalojas)\n",
    "megalojas = int(megalojas[0])\n",
    "\n",
    "salas_de_cinemas = lista_informacoes_extras[6]\n",
    "salas_de_cinemas = re.findall(r'\\d+', salas_de_cinemas)\n",
    "salas_de_cinemas = int(salas_de_cinemas[0])\n",
    "\n",
    "consumidores = lista_informacoes_extras[8]\n",
    "consumidores = re.findall(r'\\d+\\,\\d+', consumidores)\n",
    "consumidores = str(consumidores[0])\n",
    "consumidores = consumidores.replace(',', '.')\n",
    "consumidores = consumidores+'00.000'\n",
    "\n",
    "carros_no_mes = lista_informacoes_extras[9]\n",
    "carros_no_mes = re.findall(r'\\d+', carros_no_mes)\n",
    "carros_no_mes = str(carros_no_mes[0])\n",
    "carros_no_mes = carros_no_mes+'.000'\n",
    "\n",
    "vagas_estacionamento = lista_informacoes_extras[10]\n",
    "vagas_estacionamento = re.findall(r'\\d+\\.\\d+', vagas_estacionamento)\n",
    "vagas_estacionamento = str(vagas_estacionamento[0])"
   ]
  },
  {
   "cell_type": "code",
   "execution_count": 15,
   "id": "adbb2776",
   "metadata": {
    "ExecuteTime": {
     "end_time": "2023-03-20T02:18:33.374505Z",
     "start_time": "2023-03-20T02:18:33.360363Z"
    }
   },
   "outputs": [],
   "source": [
    "df['abl'] = abl\n",
    "df['area_construida'] = area_construida\n",
    "df['num_lojas'] = num_lojas\n",
    "df['num_restaurantes'] = restaurantes\n",
    "df['lojas_ancoras'] = lojas_ancoras\n",
    "df['megalojas'] = megalojas\n",
    "df['num_salas_de_cinemas'] = salas_de_cinemas\n",
    "df['num_consumidores'] = consumidores\n",
    "df['num_carros_no_mes'] = carros_no_mes\n",
    "df['num_vagas_estacionamento'] = vagas_estacionamento"
   ]
  },
  {
   "cell_type": "code",
   "execution_count": 16,
   "id": "5fc2fdec",
   "metadata": {
    "ExecuteTime": {
     "end_time": "2023-03-20T02:18:33.406176Z",
     "start_time": "2023-03-20T02:18:33.375510Z"
    }
   },
   "outputs": [
    {
     "data": {
      "text/html": [
       "<div>\n",
       "<style scoped>\n",
       "    .dataframe tbody tr th:only-of-type {\n",
       "        vertical-align: middle;\n",
       "    }\n",
       "\n",
       "    .dataframe tbody tr th {\n",
       "        vertical-align: top;\n",
       "    }\n",
       "\n",
       "    .dataframe thead th {\n",
       "        text-align: right;\n",
       "    }\n",
       "</style>\n",
       "<table border=\"1\" class=\"dataframe\">\n",
       "  <thead>\n",
       "    <tr style=\"text-align: right;\">\n",
       "      <th></th>\n",
       "      <th>lojas</th>\n",
       "      <th>segmentos</th>\n",
       "      <th>administradora</th>\n",
       "      <th>estado</th>\n",
       "      <th>cidade</th>\n",
       "      <th>bairro</th>\n",
       "      <th>uf</th>\n",
       "      <th>regiao</th>\n",
       "      <th>abl</th>\n",
       "      <th>area_construida</th>\n",
       "      <th>num_lojas</th>\n",
       "      <th>num_restaurantes</th>\n",
       "      <th>lojas_ancoras</th>\n",
       "      <th>megalojas</th>\n",
       "      <th>num_salas_de_cinemas</th>\n",
       "      <th>num_consumidores</th>\n",
       "      <th>num_carros_no_mes</th>\n",
       "      <th>num_vagas_estacionamento</th>\n",
       "    </tr>\n",
       "  </thead>\n",
       "  <tbody>\n",
       "    <tr>\n",
       "      <th>0</th>\n",
       "      <td>55RJ</td>\n",
       "      <td>Vestuário</td>\n",
       "      <td>Ancar Ivanhoe</td>\n",
       "      <td>Rio de Janeiro</td>\n",
       "      <td>Rio de Janeiro</td>\n",
       "      <td>Del Castilho</td>\n",
       "      <td>RJ</td>\n",
       "      <td>Sudeste</td>\n",
       "      <td>83.393</td>\n",
       "      <td>315.000</td>\n",
       "      <td>304</td>\n",
       "      <td>21</td>\n",
       "      <td>9</td>\n",
       "      <td>9</td>\n",
       "      <td>7</td>\n",
       "      <td>1.700.000</td>\n",
       "      <td>375.000</td>\n",
       "      <td>3.100</td>\n",
       "    </tr>\n",
       "    <tr>\n",
       "      <th>1</th>\n",
       "      <td>ACADEMIA BODYTECH</td>\n",
       "      <td>Não informado</td>\n",
       "      <td>Ancar Ivanhoe</td>\n",
       "      <td>Rio de Janeiro</td>\n",
       "      <td>Rio de Janeiro</td>\n",
       "      <td>Del Castilho</td>\n",
       "      <td>RJ</td>\n",
       "      <td>Sudeste</td>\n",
       "      <td>83.393</td>\n",
       "      <td>315.000</td>\n",
       "      <td>304</td>\n",
       "      <td>21</td>\n",
       "      <td>9</td>\n",
       "      <td>9</td>\n",
       "      <td>7</td>\n",
       "      <td>1.700.000</td>\n",
       "      <td>375.000</td>\n",
       "      <td>3.100</td>\n",
       "    </tr>\n",
       "    <tr>\n",
       "      <th>2</th>\n",
       "      <td>AÇAI DO FORTE</td>\n",
       "      <td>Outros</td>\n",
       "      <td>Ancar Ivanhoe</td>\n",
       "      <td>Rio de Janeiro</td>\n",
       "      <td>Rio de Janeiro</td>\n",
       "      <td>Del Castilho</td>\n",
       "      <td>RJ</td>\n",
       "      <td>Sudeste</td>\n",
       "      <td>83.393</td>\n",
       "      <td>315.000</td>\n",
       "      <td>304</td>\n",
       "      <td>21</td>\n",
       "      <td>9</td>\n",
       "      <td>9</td>\n",
       "      <td>7</td>\n",
       "      <td>1.700.000</td>\n",
       "      <td>375.000</td>\n",
       "      <td>3.100</td>\n",
       "    </tr>\n",
       "    <tr>\n",
       "      <th>3</th>\n",
       "      <td>ACQUA ZERO</td>\n",
       "      <td>Lavanderia</td>\n",
       "      <td>Ancar Ivanhoe</td>\n",
       "      <td>Rio de Janeiro</td>\n",
       "      <td>Rio de Janeiro</td>\n",
       "      <td>Del Castilho</td>\n",
       "      <td>RJ</td>\n",
       "      <td>Sudeste</td>\n",
       "      <td>83.393</td>\n",
       "      <td>315.000</td>\n",
       "      <td>304</td>\n",
       "      <td>21</td>\n",
       "      <td>9</td>\n",
       "      <td>9</td>\n",
       "      <td>7</td>\n",
       "      <td>1.700.000</td>\n",
       "      <td>375.000</td>\n",
       "      <td>3.100</td>\n",
       "    </tr>\n",
       "    <tr>\n",
       "      <th>4</th>\n",
       "      <td>ACTITUD</td>\n",
       "      <td>Vestuário</td>\n",
       "      <td>Ancar Ivanhoe</td>\n",
       "      <td>Rio de Janeiro</td>\n",
       "      <td>Rio de Janeiro</td>\n",
       "      <td>Del Castilho</td>\n",
       "      <td>RJ</td>\n",
       "      <td>Sudeste</td>\n",
       "      <td>83.393</td>\n",
       "      <td>315.000</td>\n",
       "      <td>304</td>\n",
       "      <td>21</td>\n",
       "      <td>9</td>\n",
       "      <td>9</td>\n",
       "      <td>7</td>\n",
       "      <td>1.700.000</td>\n",
       "      <td>375.000</td>\n",
       "      <td>3.100</td>\n",
       "    </tr>\n",
       "    <tr>\n",
       "      <th>...</th>\n",
       "      <td>...</td>\n",
       "      <td>...</td>\n",
       "      <td>...</td>\n",
       "      <td>...</td>\n",
       "      <td>...</td>\n",
       "      <td>...</td>\n",
       "      <td>...</td>\n",
       "      <td>...</td>\n",
       "      <td>...</td>\n",
       "      <td>...</td>\n",
       "      <td>...</td>\n",
       "      <td>...</td>\n",
       "      <td>...</td>\n",
       "      <td>...</td>\n",
       "      <td>...</td>\n",
       "      <td>...</td>\n",
       "      <td>...</td>\n",
       "      <td>...</td>\n",
       "    </tr>\n",
       "    <tr>\n",
       "      <th>241</th>\n",
       "      <td>WORLD TENNIS</td>\n",
       "      <td>Calçados</td>\n",
       "      <td>Ancar Ivanhoe</td>\n",
       "      <td>Rio de Janeiro</td>\n",
       "      <td>Rio de Janeiro</td>\n",
       "      <td>Del Castilho</td>\n",
       "      <td>RJ</td>\n",
       "      <td>Sudeste</td>\n",
       "      <td>83.393</td>\n",
       "      <td>315.000</td>\n",
       "      <td>304</td>\n",
       "      <td>21</td>\n",
       "      <td>9</td>\n",
       "      <td>9</td>\n",
       "      <td>7</td>\n",
       "      <td>1.700.000</td>\n",
       "      <td>375.000</td>\n",
       "      <td>3.100</td>\n",
       "    </tr>\n",
       "    <tr>\n",
       "      <th>242</th>\n",
       "      <td>WQSURF</td>\n",
       "      <td>Vestuário</td>\n",
       "      <td>Ancar Ivanhoe</td>\n",
       "      <td>Rio de Janeiro</td>\n",
       "      <td>Rio de Janeiro</td>\n",
       "      <td>Del Castilho</td>\n",
       "      <td>RJ</td>\n",
       "      <td>Sudeste</td>\n",
       "      <td>83.393</td>\n",
       "      <td>315.000</td>\n",
       "      <td>304</td>\n",
       "      <td>21</td>\n",
       "      <td>9</td>\n",
       "      <td>9</td>\n",
       "      <td>7</td>\n",
       "      <td>1.700.000</td>\n",
       "      <td>375.000</td>\n",
       "      <td>3.100</td>\n",
       "    </tr>\n",
       "    <tr>\n",
       "      <th>243</th>\n",
       "      <td>YES COSMETICS</td>\n",
       "      <td>Perfumaria e cosméticos</td>\n",
       "      <td>Ancar Ivanhoe</td>\n",
       "      <td>Rio de Janeiro</td>\n",
       "      <td>Rio de Janeiro</td>\n",
       "      <td>Del Castilho</td>\n",
       "      <td>RJ</td>\n",
       "      <td>Sudeste</td>\n",
       "      <td>83.393</td>\n",
       "      <td>315.000</td>\n",
       "      <td>304</td>\n",
       "      <td>21</td>\n",
       "      <td>9</td>\n",
       "      <td>9</td>\n",
       "      <td>7</td>\n",
       "      <td>1.700.000</td>\n",
       "      <td>375.000</td>\n",
       "      <td>3.100</td>\n",
       "    </tr>\n",
       "    <tr>\n",
       "      <th>244</th>\n",
       "      <td>ZAPPATO</td>\n",
       "      <td>Calçados</td>\n",
       "      <td>Ancar Ivanhoe</td>\n",
       "      <td>Rio de Janeiro</td>\n",
       "      <td>Rio de Janeiro</td>\n",
       "      <td>Del Castilho</td>\n",
       "      <td>RJ</td>\n",
       "      <td>Sudeste</td>\n",
       "      <td>83.393</td>\n",
       "      <td>315.000</td>\n",
       "      <td>304</td>\n",
       "      <td>21</td>\n",
       "      <td>9</td>\n",
       "      <td>9</td>\n",
       "      <td>7</td>\n",
       "      <td>1.700.000</td>\n",
       "      <td>375.000</td>\n",
       "      <td>3.100</td>\n",
       "    </tr>\n",
       "    <tr>\n",
       "      <th>245</th>\n",
       "      <td>ZINZANE</td>\n",
       "      <td>Vestuário</td>\n",
       "      <td>Ancar Ivanhoe</td>\n",
       "      <td>Rio de Janeiro</td>\n",
       "      <td>Rio de Janeiro</td>\n",
       "      <td>Del Castilho</td>\n",
       "      <td>RJ</td>\n",
       "      <td>Sudeste</td>\n",
       "      <td>83.393</td>\n",
       "      <td>315.000</td>\n",
       "      <td>304</td>\n",
       "      <td>21</td>\n",
       "      <td>9</td>\n",
       "      <td>9</td>\n",
       "      <td>7</td>\n",
       "      <td>1.700.000</td>\n",
       "      <td>375.000</td>\n",
       "      <td>3.100</td>\n",
       "    </tr>\n",
       "  </tbody>\n",
       "</table>\n",
       "<p>246 rows × 18 columns</p>\n",
       "</div>"
      ],
      "text/plain": [
       "                 lojas                segmentos administradora  \\\n",
       "0                 55RJ                Vestuário  Ancar Ivanhoe   \n",
       "1    ACADEMIA BODYTECH            Não informado  Ancar Ivanhoe   \n",
       "2        AÇAI DO FORTE                   Outros  Ancar Ivanhoe   \n",
       "3           ACQUA ZERO               Lavanderia  Ancar Ivanhoe   \n",
       "4              ACTITUD                Vestuário  Ancar Ivanhoe   \n",
       "..                 ...                      ...            ...   \n",
       "241       WORLD TENNIS                 Calçados  Ancar Ivanhoe   \n",
       "242             WQSURF                Vestuário  Ancar Ivanhoe   \n",
       "243      YES COSMETICS  Perfumaria e cosméticos  Ancar Ivanhoe   \n",
       "244            ZAPPATO                 Calçados  Ancar Ivanhoe   \n",
       "245            ZINZANE                Vestuário  Ancar Ivanhoe   \n",
       "\n",
       "             estado          cidade        bairro  uf   regiao     abl  \\\n",
       "0    Rio de Janeiro  Rio de Janeiro  Del Castilho  RJ  Sudeste  83.393   \n",
       "1    Rio de Janeiro  Rio de Janeiro  Del Castilho  RJ  Sudeste  83.393   \n",
       "2    Rio de Janeiro  Rio de Janeiro  Del Castilho  RJ  Sudeste  83.393   \n",
       "3    Rio de Janeiro  Rio de Janeiro  Del Castilho  RJ  Sudeste  83.393   \n",
       "4    Rio de Janeiro  Rio de Janeiro  Del Castilho  RJ  Sudeste  83.393   \n",
       "..              ...             ...           ...  ..      ...     ...   \n",
       "241  Rio de Janeiro  Rio de Janeiro  Del Castilho  RJ  Sudeste  83.393   \n",
       "242  Rio de Janeiro  Rio de Janeiro  Del Castilho  RJ  Sudeste  83.393   \n",
       "243  Rio de Janeiro  Rio de Janeiro  Del Castilho  RJ  Sudeste  83.393   \n",
       "244  Rio de Janeiro  Rio de Janeiro  Del Castilho  RJ  Sudeste  83.393   \n",
       "245  Rio de Janeiro  Rio de Janeiro  Del Castilho  RJ  Sudeste  83.393   \n",
       "\n",
       "    area_construida  num_lojas  num_restaurantes  lojas_ancoras  megalojas  \\\n",
       "0           315.000        304                21              9          9   \n",
       "1           315.000        304                21              9          9   \n",
       "2           315.000        304                21              9          9   \n",
       "3           315.000        304                21              9          9   \n",
       "4           315.000        304                21              9          9   \n",
       "..              ...        ...               ...            ...        ...   \n",
       "241         315.000        304                21              9          9   \n",
       "242         315.000        304                21              9          9   \n",
       "243         315.000        304                21              9          9   \n",
       "244         315.000        304                21              9          9   \n",
       "245         315.000        304                21              9          9   \n",
       "\n",
       "     num_salas_de_cinemas num_consumidores num_carros_no_mes  \\\n",
       "0                       7        1.700.000           375.000   \n",
       "1                       7        1.700.000           375.000   \n",
       "2                       7        1.700.000           375.000   \n",
       "3                       7        1.700.000           375.000   \n",
       "4                       7        1.700.000           375.000   \n",
       "..                    ...              ...               ...   \n",
       "241                     7        1.700.000           375.000   \n",
       "242                     7        1.700.000           375.000   \n",
       "243                     7        1.700.000           375.000   \n",
       "244                     7        1.700.000           375.000   \n",
       "245                     7        1.700.000           375.000   \n",
       "\n",
       "    num_vagas_estacionamento  \n",
       "0                      3.100  \n",
       "1                      3.100  \n",
       "2                      3.100  \n",
       "3                      3.100  \n",
       "4                      3.100  \n",
       "..                       ...  \n",
       "241                    3.100  \n",
       "242                    3.100  \n",
       "243                    3.100  \n",
       "244                    3.100  \n",
       "245                    3.100  \n",
       "\n",
       "[246 rows x 18 columns]"
      ]
     },
     "execution_count": 16,
     "metadata": {},
     "output_type": "execute_result"
    }
   ],
   "source": [
    "df"
   ]
  },
  {
   "cell_type": "code",
   "execution_count": null,
   "id": "5a2495ae",
   "metadata": {},
   "outputs": [],
   "source": []
  }
 ],
 "metadata": {
  "hide_input": false,
  "kernelspec": {
   "display_name": "Python 3 (ipykernel)",
   "language": "python",
   "name": "python3"
  },
  "language_info": {
   "codemirror_mode": {
    "name": "ipython",
    "version": 3
   },
   "file_extension": ".py",
   "mimetype": "text/x-python",
   "name": "python",
   "nbconvert_exporter": "python",
   "pygments_lexer": "ipython3",
   "version": "3.9.12"
  },
  "toc": {
   "base_numbering": 1,
   "nav_menu": {},
   "number_sections": true,
   "sideBar": true,
   "skip_h1_title": false,
   "title_cell": "Table of Contents",
   "title_sidebar": "Contents",
   "toc_cell": false,
   "toc_position": {},
   "toc_section_display": true,
   "toc_window_display": false
  },
  "varInspector": {
   "cols": {
    "lenName": 16,
    "lenType": 16,
    "lenVar": 40
   },
   "kernels_config": {
    "python": {
     "delete_cmd_postfix": "",
     "delete_cmd_prefix": "del ",
     "library": "var_list.py",
     "varRefreshCmd": "print(var_dic_list())"
    },
    "r": {
     "delete_cmd_postfix": ") ",
     "delete_cmd_prefix": "rm(",
     "library": "var_list.r",
     "varRefreshCmd": "cat(var_dic_list()) "
    }
   },
   "types_to_exclude": [
    "module",
    "function",
    "builtin_function_or_method",
    "instance",
    "_Feature"
   ],
   "window_display": false
  }
 },
 "nbformat": 4,
 "nbformat_minor": 5
}
