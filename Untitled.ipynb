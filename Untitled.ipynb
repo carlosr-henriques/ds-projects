{
 "cells": [
  {
   "cell_type": "markdown",
   "id": "d2059a24",
   "metadata": {},
   "source": [
    "# O que é teorema do limite central e qual sua importância?"
   ]
  },
  {
   "cell_type": "markdown",
   "id": "421c26a8",
   "metadata": {},
   "source": [
    "O Teorema do Limite Central (TCL) é uma das teorias fundamentais da Estatística Inferencial, que descreve o comportamento das médias amostrais. Para amostras de uma amostra de n >= 30, podemos extrair diversas amostras de forma aleatória e retirar a média amostral para cada uma das amostras. A média de cada amostra formará a distribuição amostral das médias, uma distribuição de probabilidade, que se aproximará de uma distribuição normal. Quanto maior for n, maior será a aproximação de uma normal. O comportamento descrito neste teorema independete da distribuição da população que os dados são extraídos. Isso é útil para vários testes que requerem como premissa a normalidade dos dados, mas essa distribuição nem sempre está presente no conjunto de dados que estamos trabalhando."
   ]
  },
  {
   "cell_type": "markdown",
   "id": "7d2274be",
   "metadata": {},
   "source": [
    "# O que é p-valor e pra que ele serve?\n",
    "\n",
    "O p-valor é uma medida que expressa a probabilidade de ser obter um valor igual ou mais extremo daquela observada em amostra, sob a hipótese nula. Depois de formulada as hipóteses e obtida a estatística, partimos da premissa que a hipótese nula é verdadeira, e usamos o p-valor como medidor da força de evidência para aceitação ou rejeição da hipótese nula. Se temos um nível de significância de 5%, em um teste bicaudal, e o p-valor gera um valor que dividido por 2 é menor que 2.5% - para representar a área das duas caudas, então temos a evidência necessária para rejeitar H0."
   ]
  },
  {
   "cell_type": "markdown",
   "id": "9995b4d3",
   "metadata": {},
   "source": [
    "# Qual é a diferença do erro tipo I e tipo II?"
   ]
  },
  {
   "cell_type": "markdown",
   "id": "985d61bc",
   "metadata": {},
   "source": [
    "O erro do tipo I é falso-positivo, enquanto que o erro do tipo II é um falso-negativo. No primeiro caso, temos que H0 é verdadeiro, mas rejeitado, ou seja, erramos em rejeitar H0. No segundo caso, H0 é falso e aceito, ou seja, erramos em aceitar H0 quando ela é falsa."
   ]
  },
  {
   "cell_type": "markdown",
   "id": "cf2f1c2b",
   "metadata": {},
   "source": [
    "# O que é poder estatístico?"
   ]
  },
  {
   "cell_type": "markdown",
   "id": "87543b8a",
   "metadata": {},
   "source": []
  },
  {
   "cell_type": "markdown",
   "id": "bcd43df2",
   "metadata": {},
   "source": [
    "# Como você explicaria a um membro não técnico da equipe o que é um intervalo de confiança?"
   ]
  },
  {
   "cell_type": "markdown",
   "id": "44c34b6e",
   "metadata": {},
   "source": [
    "O Intervalo de Confiança corresponde à um intervalo numérico ao qual está presente nesse intervalo o parâmetro populacional. É uma estimativa pontual com um grau de incerteza que formam uma estimativa intervalar. Podemos gerar intervalos de confiança com diferentes níveis de incerteza como 95%, 98%, 99,7%. Se temos um intervalo de confiança de 95%, compreendido entre os intervalos 50-100 usando parâmetro a média populacional, então dentro deste intervalo encontra-se a média populacional. Assim como em tudo na estatística, essa estimativa tem consigo uma probabilidade de erro.  "
   ]
  },
  {
   "cell_type": "markdown",
   "id": "abdfcefe",
   "metadata": {},
   "source": [
    "# Qual é a relação entre o nível de confiança e o nível de significância nas estatísticas?"
   ]
  },
  {
   "cell_type": "markdown",
   "id": "03220492",
   "metadata": {},
   "source": [
    "O nível de confiança (ou certeza), determina a área da distribuição (e a probabilidade) que, quando o valor da estatística estiver nesta área, iremos aceitar a hipótese nula, enquanto que o nível de significância é o complemento do nível de confiança, por sua vez levando a decisão de rejeição de H0 quando o valor da estatística estiver nessa área. O nível de significância também representa o Erro do Tipo I."
   ]
  },
  {
   "cell_type": "markdown",
   "id": "dac5dfeb",
   "metadata": {},
   "source": [
    "# O que é uma hipótese alternativa?"
   ]
  },
  {
   "cell_type": "markdown",
   "id": "2c5e3adb",
   "metadata": {},
   "source": [
    "A hipótese alternativa é o complemento da hipótese nula, representando a desigualdade da afirmação da hipótese nula."
   ]
  },
  {
   "cell_type": "markdown",
   "id": "9af1c843",
   "metadata": {},
   "source": [
    "# Descreva uma situação em que você usou a análise estatística para tomar uma decisão ou resolver um problema\n"
   ]
  },
  {
   "cell_type": "markdown",
   "id": "455437b5",
   "metadata": {},
   "source": []
  }
 ],
 "metadata": {
  "hide_input": false,
  "kernelspec": {
   "display_name": "Python 3 (ipykernel)",
   "language": "python",
   "name": "python3"
  },
  "language_info": {
   "codemirror_mode": {
    "name": "ipython",
    "version": 3
   },
   "file_extension": ".py",
   "mimetype": "text/x-python",
   "name": "python",
   "nbconvert_exporter": "python",
   "pygments_lexer": "ipython3",
   "version": "3.11.4"
  },
  "varInspector": {
   "cols": {
    "lenName": 16,
    "lenType": 16,
    "lenVar": 40
   },
   "kernels_config": {
    "python": {
     "delete_cmd_postfix": "",
     "delete_cmd_prefix": "del ",
     "library": "var_list.py",
     "varRefreshCmd": "print(var_dic_list())"
    },
    "r": {
     "delete_cmd_postfix": ") ",
     "delete_cmd_prefix": "rm(",
     "library": "var_list.r",
     "varRefreshCmd": "cat(var_dic_list()) "
    }
   },
   "types_to_exclude": [
    "module",
    "function",
    "builtin_function_or_method",
    "instance",
    "_Feature"
   ],
   "window_display": false
  }
 },
 "nbformat": 4,
 "nbformat_minor": 5
}
